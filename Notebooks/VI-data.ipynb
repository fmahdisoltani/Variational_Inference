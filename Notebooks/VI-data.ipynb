{
 "cells": [
  {
   "cell_type": "markdown",
   "metadata": {},
   "source": [
    "# SVI with Gaussian posterior"
   ]
  },
  {
   "cell_type": "markdown",
   "metadata": {},
   "source": [
    "In this notebook, we implement stochastic Variational Inference in pytorch. <br/>\n",
    "The forms of `prior` and `approximate posterior` are assumed to be `Gaussian` \n",
    "with predefined means and standard deviation. <br />\n",
    "The standard deviation of likelihood is predifined, \n",
    "however likelihood `mean` is computed using an observed toy dataset. "
   ]
  },
  {
   "cell_type": "code",
   "execution_count": 1,
   "metadata": {},
   "outputs": [],
   "source": [
    "import torch\n",
    "import numpy as np\n",
    "import matplotlib.pyplot as plt"
   ]
  },
  {
   "cell_type": "code",
   "execution_count": 2,
   "metadata": {},
   "outputs": [],
   "source": [
    "softplus = torch.nn.Softplus()\n",
    "softmax = torch.nn.Softmax(dim=0)\n",
    "num_samples = [100, 100]  # Number of samples\n",
    "num_components = 1\n",
    "num_steps = 3000"
   ]
  },
  {
   "cell_type": "markdown",
   "metadata": {},
   "source": [
    "## Generating Data\n",
    "We generate a unimodal dataset."
   ]
  },
  {
   "cell_type": "code",
   "execution_count": 3,
   "metadata": {},
   "outputs": [],
   "source": [
    "def create_unimodal_data(num_samples, w, scale, low=-10, high=10):\n",
    "    x = np.random.uniform(low=low, high=high, size=(num_samples, 1))\n",
    "    t = w * x + np.random.normal(size=(num_samples, 1), scale=scale)\n",
    "    x = torch.tensor(x)\n",
    "    t = torch.tensor(t)\n",
    "    return x, t"
   ]
  },
  {
   "cell_type": "code",
   "execution_count": 4,
   "metadata": {},
   "outputs": [
    {
     "data": {
      "text/plain": [
       "<matplotlib.collections.PathCollection at 0x11beeada0>"
      ]
     },
     "execution_count": 4,
     "metadata": {},
     "output_type": "execute_result"
    },
    {
     "data": {
      "image/png": "[encoded data removed]",
      "text/plain": [
       "<Figure size 432x288 with 1 Axes>"
      ]
     },
     "metadata": {
      "needs_background": "light"
     },
     "output_type": "display_data"
    }
   ],
   "source": [
    "x, t = create_unimodal_data(200, 2.8, 4., low=-10, high=10)\n",
    "plt.scatter(x, t)"
   ]
  },
  {
   "cell_type": "markdown",
   "metadata": {},
   "source": [
    "## Sampling\n",
    "`gaussian_sample` function samples from a gaussian with reparameterization.<br />\n"
   ]
  },
  {
   "cell_type": "code",
   "execution_count": 5,
   "metadata": {},
   "outputs": [],
   "source": [
    "def gaussian_sample(mean, std, num_samples, D=1):\n",
    "    eps = torch.randn(size=(num_samples, D))\n",
    "    z = eps * std + mean\n",
    "    return z"
   ]
  },
  {
   "cell_type": "markdown",
   "metadata": {},
   "source": [
    "`log_gmm` and `log_gaussian` compute log pdf of gmm and gaussian ditributions respectively. "
   ]
  },
  {
   "cell_type": "code",
   "execution_count": 6,
   "metadata": {},
   "outputs": [],
   "source": [
    "def log_gaussian(x, mean, std):\n",
    "    return -0.5 * torch.log(2 * np.pi * std ** 2) - (0.5 * (1 / (std ** 2)) * (x - mean) ** 2)\n",
    "\n",
    "def log_gmm(x, means, stds, log_pais):\n",
    "    comp_log_dens = torch.stack([log_gaussian(x, mu, std) for (mu, std) in zip(means, stds)]).T\n",
    "    log_weights = log_normalize(log_pais)\n",
    "    return torch.logsumexp(comp_log_dens + log_weights, axis=-1, keepdims=False)\n",
    "\n",
    "def log_normalize(x):\n",
    "    return x - torch.logsumexp(x, 0)\n"
   ]
  },
  {
   "cell_type": "markdown",
   "metadata": {},
   "source": [
    "Lets assume our approximate posterior, `q`,  is a mixture of Gaussians with two components,\n",
    "our prior is a Gaussian and likelihood is also a mixture of Gaussians.\n"
   ]
  },
  {
   "cell_type": "code",
   "execution_count": 7,
   "metadata": {},
   "outputs": [],
   "source": [
    "q_means = torch.nn.Parameter(torch.tensor([2.]), requires_grad=True)\n",
    "q_stds = torch.nn.Parameter(torch.tensor([.8]), requires_grad=True)\n",
    "q_log_pais = torch.nn.Parameter(torch.log(torch.tensor([1.])), requires_grad=True)\n",
    "q_fn = lambda t: log_gmm(t, q_means, softplus(q_stds), q_log_pais)"
   ]
  },
  {
   "cell_type": "code",
   "execution_count": 8,
   "metadata": {},
   "outputs": [],
   "source": [
    "likelihood_stds = torch.tensor([4.6])\n",
    "likelihood_log_pais = torch.log(torch.tensor([1.]))\n",
    "likelihood_fn = lambda t: log_gmm(t, likelihood_means, likelihood_stds)"
   ]
  },
  {
   "cell_type": "code",
   "execution_count": 9,
   "metadata": {},
   "outputs": [],
   "source": [
    "p_means = torch.tensor([-4.])\n",
    "p_stds = torch.tensor([1.])\n",
    "p_log_pais = torch.log(torch.tensor([1.]))\n",
    "p_fn = lambda t: log_gmm(t, p_means, softplus(p_stds), p_log_pais)"
   ]
  },
  {
   "cell_type": "markdown",
   "metadata": {},
   "source": [
    "We can plot the true posterior."
   ]
  },
  {
   "cell_type": "code",
   "execution_count": 10,
   "metadata": {},
   "outputs": [
    {
     "data": {
      "image/png": "[encoded data removed]",
      "text/plain": [
       "<Figure size 432x288 with 1 Axes>"
      ]
     },
     "metadata": {
      "needs_background": "light"
     },
     "output_type": "display_data"
    }
   ],
   "source": [
    "wn = torch.arange(1.8, 3.8, 0.0001)\n",
    "log_likelihood= torch.sum(log_gmm(t, [wn * x], likelihood_stds, likelihood_log_pais), 1)\n",
    "log_prior = p_fn(wn)\n",
    "\n",
    "log_true_posterior = log_likelihood + log_prior\n",
    "log_true_posterior = log_true_posterior - torch.max(log_true_posterior)\n",
    "true_posterior = torch.exp(log_true_posterior) / torch.sum(torch.exp(log_true_posterior))\n",
    "\n",
    "posterior = torch.exp(q_fn(wn))\n",
    "\n",
    "plt.plot(wn, true_posterior, linewidth=3, label=\"True Posterior\")\n",
    "\n",
    "plt.legend()\n",
    "plt.show()"
   ]
  },
  {
   "cell_type": "code",
   "execution_count": 11,
   "metadata": {},
   "outputs": [],
   "source": [
    "import math\n",
    "def gaussian(x, mean, std):\n",
    "    return (1 / torch.sqrt(torch.FloatTensor([2*math.pi])*std**2)) * torch.exp(-((x - mean) ** 2.) / (2 * std**2))\n",
    "\n",
    "def gmm(x, means, variances, pais):\n",
    "    return sum([pai * gaussian(x, mu, var) for (pai, mu, var) in zip(pais, means, variances)])"
   ]
  },
  {
   "cell_type": "code",
   "execution_count": 12,
   "metadata": {},
   "outputs": [
    {
     "data": {
      "image/png": "[encoded data removed]",
      "text/plain": [
       "<Figure size 432x288 with 1 Axes>"
      ]
     },
     "metadata": {
      "needs_background": "light"
     },
     "output_type": "display_data"
    }
   ],
   "source": [
    "likelihood= torch.sum(gmm(t, [wn * x], likelihood_stds, likelihood_log_pais), 0)\n",
    "plt.plot(wn, log_likelihood, linewidth=3, label=\"True Posterior\")\n",
    "\n",
    "plt.legend()\n",
    "plt.show()"
   ]
  },
  {
   "cell_type": "code",
   "execution_count": 13,
   "metadata": {},
   "outputs": [],
   "source": [
    "def compute_elbo(x, t):\n",
    "    elbo = 0\n",
    "    for c in range(num_components):\n",
    "        # c = torch.randint(0, 2, [1]) ## we can replace the loop over comps with this line to sample the component\n",
    "        z = gaussian_sample(q_means[c], softplus(q_stds[c]), num_samples[c])\n",
    "        \n",
    "        q_likelihood = torch.mean(q_fn(z))\n",
    "        prior = torch.mean(p_fn(z))\n",
    "        log_likelihood = torch.mean(torch.sum(log_gmm(t, [z.T * x], likelihood_stds,\n",
    "                        likelihood_log_pais), 1))\n",
    "        elbo_c = q_likelihood - prior - log_likelihood\n",
    "        elbo += elbo_c * softmax(q_log_pais)[c]\n",
    "    return elbo"
   ]
  },
  {
   "cell_type": "markdown",
   "metadata": {},
   "source": [
    "# Optimizer\n",
    "We define an optimizer, and pass the variables that we intend to optimize. "
   ]
  },
  {
   "cell_type": "code",
   "execution_count": 14,
   "metadata": {},
   "outputs": [],
   "source": [
    "optimizer = torch.optim.Adam([\n",
    "    {'params': [q_log_pais, q_means, q_stds], 'lr': 0.02}])"
   ]
  },
  {
   "cell_type": "markdown",
   "metadata": {},
   "source": [
    "## Training"
   ]
  },
  {
   "cell_type": "code",
   "execution_count": 15,
   "metadata": {},
   "outputs": [
    {
     "name": "stdout",
     "output_type": "stream",
     "text": [
      "Step:0 Loss: 846.881336, means:[2.02], stds:[1.1573441], pais:[1.]\n",
      "Step:250 Loss: 578.956752, means:[2.852712], stds:[0.21906987], pais:[1.]\n",
      "Step:500 Loss: 575.225605, means:[2.8492684], stds:[0.13007586], pais:[1.]\n",
      "Step:750 Loss: 574.757223, means:[2.8474677], stds:[0.09767898], pais:[1.]\n",
      "Step:1000 Loss: 574.291758, means:[2.8447063], stds:[0.08126739], pais:[1.]\n",
      "Step:1250 Loss: 574.297405, means:[2.85237], stds:[0.07172117], pais:[1.]\n",
      "Step:1500 Loss: 574.193168, means:[2.8514848], stds:[0.06593373], pais:[1.]\n",
      "Step:1750 Loss: 574.176452, means:[2.8484871], stds:[0.06235664], pais:[1.]\n",
      "Step:2000 Loss: 574.194628, means:[2.8477316], stds:[0.06016498], pais:[1.]\n",
      "Step:2250 Loss: 574.195522, means:[2.8457963], stds:[0.0584971], pais:[1.]\n",
      "Step:2500 Loss: 574.189978, means:[2.8539217], stds:[0.05791222], pais:[1.]\n",
      "Step:2750 Loss: 574.181921, means:[2.8495734], stds:[0.05769226], pais:[1.]\n"
     ]
    }
   ],
   "source": [
    "for step in range(num_steps):\n",
    "    loss = compute_elbo(x, t)\n",
    "    optimizer.zero_grad()\n",
    "    loss.backward(retain_graph=True)\n",
    "    optimizer.step()\n",
    "\n",
    "    if step % 250 == 0:\n",
    "        print('Step:{} Loss: {:.6f}, '\n",
    "              'means:{}, '\n",
    "              'stds:{}, '\n",
    "              'pais:{}'\n",
    "              .format(step, loss.item(), q_means.data.numpy(), \n",
    "                      softplus(q_stds).data.numpy(),\n",
    "                      softmax(q_log_pais).data.numpy())\n",
    "             )"
   ]
  },
  {
   "cell_type": "markdown",
   "metadata": {},
   "source": [
    "## Plotting"
   ]
  },
  {
   "cell_type": "code",
   "execution_count": 16,
   "metadata": {},
   "outputs": [
    {
     "data": {
      "image/png": "[encoded data removed]",
      "text/plain": [
       "<Figure size 432x288 with 1 Axes>"
      ]
     },
     "metadata": {
      "needs_background": "light"
     },
     "output_type": "display_data"
    }
   ],
   "source": [
    "wn = torch.arange(1.8, 3.8 , 0.0001)\n",
    "log_likelihood = torch.sum(log_gmm(t, [wn * x],\n",
    "                                   likelihood_stds, likelihood_log_pais), 1)\n",
    "log_prior = p_fn(wn)\n",
    "\n",
    "log_true_posterior = log_likelihood + log_prior\n",
    "log_true_posterior = log_true_posterior - torch.max(log_true_posterior)\n",
    "true_posterior = torch.exp(log_true_posterior) / torch.sum(\n",
    "    torch.exp(log_true_posterior))\n",
    "\n",
    "plt.plot(wn, true_posterior, linewidth=3, label=\"True Posterior\")\n",
    "\n",
    "posterior = torch.exp(q_fn(wn))\n",
    "plt.plot(wn, posterior.clone().detach() / torch.sum(posterior.clone().detach()), '--',\n",
    "         linewidth=3, label=\"GMM\")\n",
    "# plt.plot(wn, torch.exp(log_likelihood))\n",
    "plt.legend()\n",
    "plt.show()"
   ]
  }
 ],
 "metadata": {
  "kernelspec": {
   "display_name": "Python 3",
   "language": "python",
   "name": "python3"
  },
  "language_info": {
   "codemirror_mode": {
    "name": "ipython",
    "version": 3
   },
   "file_extension": ".py",
   "mimetype": "text/x-python",
   "name": "python",
   "nbconvert_exporter": "python",
   "pygments_lexer": "ipython3",
   "version": "3.7.1"
  }
 },
 "nbformat": 4,
 "nbformat_minor": 4
}
