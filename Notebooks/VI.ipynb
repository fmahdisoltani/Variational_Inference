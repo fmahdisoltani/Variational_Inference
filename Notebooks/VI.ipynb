{
 "cells": [
  {
   "cell_type": "markdown",
   "metadata": {},
   "source": [
    "# SVI with Mixture of Gaussian posterior"
   ]
  },
  {
   "cell_type": "markdown",
   "metadata": {},
   "source": [
    "In this notebook, stochastic VI is implemented in pytorch. <br/>\n",
    "The prior is assumed to be `Gaussian` with fixed parameter values, <br/>\n",
    "while the likelihood and approximate posterior are assumed as a `GMM`s."
   ]
  },
  {
   "cell_type": "code",
   "execution_count": 2,
   "metadata": {},
   "outputs": [],
   "source": [
    "import torch\n",
    "import numpy as np\n",
    "import matplotlib.pyplot as plt"
   ]
  },
  {
   "cell_type": "code",
   "execution_count": 3,
   "metadata": {},
   "outputs": [],
   "source": [
    "softplus = torch.nn.Softplus()\n",
    "softmax = torch.nn.Softmax(dim=0)\n",
    "num_samples = [100, 100]  # Number of samples\n",
    "num_components = 2\n",
    "num_steps = 3000\n"
   ]
  },
  {
   "cell_type": "markdown",
   "metadata": {},
   "source": [
    "## Sampling\n",
    "`gaussian_sample` function samples from a gaussian with reparameterization.<br />\n"
   ]
  },
  {
   "cell_type": "code",
   "execution_count": 4,
   "metadata": {},
   "outputs": [],
   "source": [
    "def gaussian_sample(mean, std, num_samples, D=1):\n",
    "    eps = torch.randn(size=(num_samples, D))\n",
    "    z = eps * std + mean\n",
    "    return z"
   ]
  },
  {
   "cell_type": "markdown",
   "metadata": {},
   "source": [
    "`log_gmm` and `log_gaussian` compute log pdf of gmm and gaussian ditributions respectively. "
   ]
  },
  {
   "cell_type": "code",
   "execution_count": 5,
   "metadata": {},
   "outputs": [],
   "source": [
    "def log_gaussian(x, mean, std):\n",
    "    return -0.5 * torch.log(2 * np.pi * std ** 2) - (0.5 * (1 / (std ** 2)) * (x - mean) ** 2)\n",
    "\n",
    "def log_gmm(x, means, stds, log_pais):\n",
    "    comp_log_dens = torch.stack([log_gaussian(x, mu, std) for (mu, std) in zip(means, stds)]).T\n",
    "    log_weights = log_normalize(log_pais)\n",
    "    return torch.logsumexp(comp_log_dens + log_weights, axis=-1, keepdims=False)\n",
    "\n",
    "def log_normalize(x):\n",
    "    return x - torch.logsumexp(x, 0)\n"
   ]
  },
  {
   "cell_type": "markdown",
   "metadata": {},
   "source": [
    "Lets assume our approximate posterior, `q`,  is a mixture of Gaussians with two components,\n",
    "our prior is a Gaussian and likelihood is also a mixture of Gaussians.\n"
   ]
  },
  {
   "cell_type": "code",
   "execution_count": 6,
   "metadata": {},
   "outputs": [],
   "source": [
    "q_means = torch.nn.Parameter(torch.tensor([-4., 4.]), requires_grad=True)\n",
    "q_stds = torch.nn.Parameter(torch.tensor([.8, .8]), requires_grad=True)\n",
    "q_log_pais = torch.nn.Parameter(torch.log(torch.tensor([.3, .7])), requires_grad=True)\n",
    "q_fn = lambda t: log_gmm(t, q_means, softplus(q_stds), q_log_pais)"
   ]
  },
  {
   "cell_type": "code",
   "execution_count": 7,
   "metadata": {},
   "outputs": [],
   "source": [
    "p_means = torch.tensor([0.])\n",
    "p_stds = torch.tensor([10.])\n",
    "p_log_pais = torch.log(torch.tensor([1.]))\n",
    "p_fn = lambda t: log_gmm(t, p_means, softplus(p_stds), p_log_pais)"
   ]
  },
  {
   "cell_type": "code",
   "execution_count": 8,
   "metadata": {},
   "outputs": [],
   "source": [
    "likelihood_means = torch.tensor([-2., 2.])\n",
    "likelihood_stds = torch.tensor([.8, 1.])\n",
    "likelihood_log_pais = torch.log(torch.tensor([.4, .6]))\n",
    "likelihood_fn = lambda t: log_gmm(t, likelihood_means, likelihood_stds, likelihood_log_pais)"
   ]
  },
  {
   "cell_type": "markdown",
   "metadata": {},
   "source": [
    "We can plot the true posterior."
   ]
  },
  {
   "cell_type": "code",
   "execution_count": 9,
   "metadata": {},
   "outputs": [
    {
     "data": {
      "image/png": "[encoded data removed]",
      "text/plain": [
       "<Figure size 432x288 with 1 Axes>"
      ]
     },
     "metadata": {
      "needs_background": "light"
     },
     "output_type": "display_data"
    }
   ],
   "source": [
    "wn = torch.arange(-4., 7.5, 0.0001)\n",
    "log_likelihood = likelihood_fn(wn)\n",
    "log_prior = p_fn(wn)\n",
    "\n",
    "log_true_posterior = log_likelihood + log_prior\n",
    "log_true_posterior = log_true_posterior - torch.max(log_true_posterior)\n",
    "true_posterior = torch.exp(log_true_posterior) / torch.sum(torch.exp(log_true_posterior))\n",
    "\n",
    "posterior = torch.exp(q_fn(wn))\n",
    "\n",
    "plt.plot(wn, true_posterior, linewidth=3, label=\"True Posterior\")\n",
    "\n",
    "plt.legend()\n",
    "plt.show()"
   ]
  },
  {
   "cell_type": "code",
   "execution_count": 10,
   "metadata": {},
   "outputs": [],
   "source": [
    "def compute_elbo():\n",
    "    elbo = 0\n",
    "    for c in range(num_components):\n",
    "        # c = torch.randint(0, 2, [1]) ## we can replace the loop over comps with this line to sample the component\n",
    "        z = gaussian_sample(q_means[c], softplus(q_stds[c]), num_samples[c])\n",
    "        \n",
    "        q_likelihood = torch.mean(q_fn(z))\n",
    "        prior = torch.mean(p_fn(z))\n",
    "        likelihood = torch.mean(likelihood_fn(z))\n",
    "        elbo_c = q_likelihood - prior - likelihood\n",
    "        elbo += elbo_c * softmax(q_log_pais)[c]\n",
    "    return elbo"
   ]
  },
  {
   "cell_type": "markdown",
   "metadata": {},
   "source": [
    "# Optimizer\n",
    "We define an optimizer, and pass the variables that we intend to optimize. "
   ]
  },
  {
   "cell_type": "code",
   "execution_count": 11,
   "metadata": {},
   "outputs": [],
   "source": [
    "optimizer = torch.optim.Adam([\n",
    "    {'params': [q_log_pais, q_means, q_stds], 'lr': 0.002}])"
   ]
  },
  {
   "cell_type": "markdown",
   "metadata": {},
   "source": [
    "## Training"
   ]
  },
  {
   "cell_type": "code",
   "execution_count": 12,
   "metadata": {},
   "outputs": [
    {
     "name": "stdout",
     "output_type": "stream",
     "text": [
      "Step:0 Loss: 5.584110, means:[-3.998  3.998], stds:[0.79800004 0.79800004], pais:[0.2991607  0.70083934]\n",
      "Step:250 Loss: 4.433443, means:[-3.559534   3.5152857], stds:[0.4437172 0.5713652], pais:[0.22220981 0.7777902 ]\n",
      "Step:500 Loss: 4.032066, means:[-3.1507018  3.1105158], stds:[0.27322048 0.5459892 ], pais:[0.2715825  0.72841746]\n",
      "Step:750 Loss: 3.582065, means:[-2.7402885  2.7979398], stds:[0.20705758 0.5322716 ], pais:[0.3546418 0.6453582]\n",
      "Step:1000 Loss: 3.422817, means:[-2.403433  2.560725], stds:[0.20267664 0.53005224], pais:[0.40431005 0.59568995]\n",
      "Step:1250 Loss: 3.288441, means:[-2.1839316  2.374353 ], stds:[0.21107657 0.5168753 ], pais:[0.41465437 0.5853456 ]\n",
      "Step:1500 Loss: 3.256250, means:[-2.0669842  2.2360609], stds:[0.24958238 0.5033897 ], pais:[0.41274977 0.58725023]\n",
      "Step:1750 Loss: 3.255167, means:[-2.0054834  2.1403167], stds:[0.21641731 0.50720656], pais:[0.40713173 0.5928683 ]\n",
      "Step:2000 Loss: 3.252437, means:[-1.9846393  2.069825 ], stds:[0.22951575 0.5154245 ], pais:[0.4055853 0.5944148]\n",
      "Step:2250 Loss: 3.246415, means:[-1.9854349  2.0317814], stds:[0.21638283 0.5098429 ], pais:[0.403487 0.596513]\n",
      "Step:2500 Loss: 3.244935, means:[-1.9881045  2.0062375], stds:[0.20678264 0.5286219 ], pais:[0.4033447  0.59665537]\n",
      "Step:2750 Loss: 3.244212, means:[-1.9863694  1.9943683], stds:[0.21030545 0.54501706], pais:[0.4009686 0.5990314]\n"
     ]
    }
   ],
   "source": [
    "for step in range(num_steps):\n",
    "    loss = compute_elbo()\n",
    "    optimizer.zero_grad()\n",
    "    loss.backward(retain_graph=True)\n",
    "    optimizer.step()\n",
    "\n",
    "    if step % 250 == 0:\n",
    "        print('Step:{} Loss: {:.6f}, '\n",
    "              'means:{}, '\n",
    "              'stds:{}, '\n",
    "              'pais:{}'\n",
    "              .format(step, loss.item(), q_means.data.numpy(), \n",
    "                      q_stds.data.numpy(),\n",
    "                      softmax(q_log_pais).data.numpy())\n",
    "             )"
   ]
  },
  {
   "cell_type": "markdown",
   "metadata": {},
   "source": [
    "## Plotting"
   ]
  },
  {
   "cell_type": "code",
   "execution_count": 15,
   "metadata": {},
   "outputs": [
    {
     "name": "stderr",
     "output_type": "stream",
     "text": [
      "No handles with labels found to put in legend.\n",
      "/Users/farzaneh/anaconda3/lib/python3.7/site-packages/IPython/core/pylabtools.py:132: UserWarning: Creating legend with loc=\"best\" can be slow with large amounts of data.\n",
      "  fig.canvas.print_figure(bytes_io, **kw)\n"
     ]
    },
    {
     "data": {
      "image/png": "[encoded data removed]",
      "text/plain": [
       "<Figure size 432x288 with 1 Axes>"
      ]
     },
     "metadata": {
      "needs_background": "light"
     },
     "output_type": "display_data"
    }
   ],
   "source": [
    "wn = torch.arange(-4., 7.5, 0.0001)\n",
    "log_likelihood = likelihood_fn(wn)\n",
    "log_prior = p_fn(wn)\n",
    "\n",
    "log_true_posterior = log_likelihood + log_prior\n",
    "log_true_posterior = log_true_posterior - torch.max(log_true_posterior)\n",
    "true_posterior = torch.exp(log_true_posterior) / torch.sum(torch.exp(log_true_posterior))\n",
    "\n",
    "\n",
    "posterior = torch.exp(q_fn(wn))\n",
    "\n",
    "plt.plot(wn, true_posterior, linewidth=3, label=\"True Posterior\")\n",
    "\n",
    "plt.plot(wn, posterior.detach() / torch.sum(posterior.detach()), '--', linewidth=3, label=\"GMM\")\n",
    "\n",
    "plt.legend()\n",
    "plt.show()"
   ]
  }
 ],
 "metadata": {
  "kernelspec": {
   "display_name": "Python 3",
   "language": "python",
   "name": "python3"
  },
  "language_info": {
   "codemirror_mode": {
    "name": "ipython",
    "version": 3
   },
   "file_extension": ".py",
   "mimetype": "text/x-python",
   "name": "python",
   "nbconvert_exporter": "python",
   "pygments_lexer": "ipython3",
   "version": "3.7.1"
  }
 },
 "nbformat": 4,
 "nbformat_minor": 4
}
