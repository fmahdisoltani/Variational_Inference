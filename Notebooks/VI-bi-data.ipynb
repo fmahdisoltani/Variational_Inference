{
 "cells": [
  {
   "cell_type": "markdown",
   "metadata": {},
   "source": [
    "# SVI with Mixture of Gaussian posterior - bimodal toy dataset"
   ]
  },
  {
   "cell_type": "markdown",
   "metadata": {},
   "source": [
    "In this notebook, stochastic VI is implemented in pytorch. <br />\n",
    "The forms of prior and approximate posterior are assumed and predefined. <br />\n",
    "The standard deviation of likelihood is predifined, \n",
    "however likelihood `mean` is computed using an observed toy dataset. "
   ]
  },
  {
   "cell_type": "code",
   "execution_count": 1,
   "metadata": {},
   "outputs": [],
   "source": [
    "import torch\n",
    "import numpy as np\n",
    "import matplotlib.pyplot as plt"
   ]
  },
  {
   "cell_type": "code",
   "execution_count": 2,
   "metadata": {},
   "outputs": [],
   "source": [
    "softplus = torch.nn.Softplus()\n",
    "softmax = torch.nn.Softmax(dim=0)\n",
    "num_samples = [100, 100]  # Number of samples\n",
    "num_components = 2\n",
    "num_steps = 5000"
   ]
  },
  {
   "cell_type": "markdown",
   "metadata": {},
   "source": [
    "## Sampling\n",
    "`gaussian_sample` function samples from a gaussian with reparameterization.<br />\n"
   ]
  },
  {
   "cell_type": "code",
   "execution_count": 3,
   "metadata": {},
   "outputs": [],
   "source": [
    "def gaussian_sample(mean, std, num_samples, D=1):\n",
    "    eps = torch.randn(size=(num_samples, D))\n",
    "    z = eps * std + mean\n",
    "    return z"
   ]
  },
  {
   "cell_type": "markdown",
   "metadata": {},
   "source": [
    "`log_gmm` and `log_gaussian` compute log pdf of gmm and gaussian ditributions respectively. "
   ]
  },
  {
   "cell_type": "code",
   "execution_count": 4,
   "metadata": {},
   "outputs": [],
   "source": [
    "def log_gaussian(x, mean, std):\n",
    "    return -0.5 * torch.log(2 * np.pi * std ** 2) - (0.5 * (1 / (std ** 2)) * (x - mean) ** 2)\n",
    "\n",
    "def log_gmm(x, means, stds, log_pais):\n",
    "    comp_log_dens = torch.stack([log_gaussian(x, mu, std) for (mu, std) in zip(means, stds)]).T\n",
    "    log_weights = log_normalize(log_pais)\n",
    "    return torch.logsumexp(comp_log_dens + log_weights, axis=-1, keepdims=False)\n",
    "\n",
    "def log_normalize(x):\n",
    "    return x - torch.logsumexp(x, 0)\n"
   ]
  },
  {
   "cell_type": "code",
   "execution_count": 5,
   "metadata": {},
   "outputs": [],
   "source": [
    "import math\n",
    "def gaussian(x, mean, std):\n",
    "    return (1 / torch.sqrt(torch.FloatTensor([2*math.pi])*std**2)) * torch.exp(-((x - mean) ** 2.) / (2 * std**2))\n",
    "\n",
    "def gmm(x, means, variances, pais):\n",
    "    return sum([pai * gaussian(x, mu, var) for (pai, mu, var) in zip(pais, means, variances)])"
   ]
  },
  {
   "cell_type": "markdown",
   "metadata": {},
   "source": [
    "## Generating Data\n",
    "We generate a bimodal dataset."
   ]
  },
  {
   "cell_type": "code",
   "execution_count": 6,
   "metadata": {},
   "outputs": [],
   "source": [
    "def create_bimodal_data(w1, w2, std1, std2, pai, num_samples, low=-50, high=50):\n",
    "    # generate data:\n",
    "    # p(t|w, x) = a * N(t; w1*x, std1) + (1-a) * N(t; w2*x, std2)\n",
    "    #         (1) sample x_i\n",
    "    #         (2) compute y_i from GMM\n",
    "    x = np.random.uniform(low=-50, high=50, size=num_samples)\n",
    "    samples = torch.cat([gaussian_sample(mean, std, num_samples)\n",
    "                         for mean, std in zip(torch.tensor([0., 0.]), \n",
    "                                              torch.tensor([std1, std2]))], axis=1)\n",
    "\n",
    "    samples[:, 0] += torch.tensor(w1 * x)\n",
    "    samples[:, 1] += torch.tensor(w2 * x)\n",
    "    weights = torch.tensor([pai, 1-pai])\n",
    "    ixs = torch.multinomial(weights, num_samples, replacement=True)\n",
    "    t = torch.stack([samples[i, ix] for i, ix in enumerate(ixs)])\n",
    "    x = torch.unsqueeze(torch.tensor(x), -1)\n",
    "    t = torch.unsqueeze(torch.tensor(t), -1)\n",
    "\n",
    "    return x, t"
   ]
  },
  {
   "cell_type": "code",
   "execution_count": 7,
   "metadata": {},
   "outputs": [],
   "source": [
    "def create_unimodal_data(num_samples, w, scale, low=-10, high=10):\n",
    "    x = np.random.uniform(low=low, high=high, size=(num_samples, 1))\n",
    "    t = w * x + np.random.normal(size=(num_samples, 1), scale=scale)\n",
    "    x = torch.tensor(x)\n",
    "    t = torch.tensor(t)\n",
    "    return x, t"
   ]
  },
  {
   "cell_type": "code",
   "execution_count": 8,
   "metadata": {},
   "outputs": [],
   "source": [
    "def create_bimodal_data2(w1, w2, std1, std2, pai, num_samples, low=-50, high=50):\n",
    "    x1, t1 = create_unimodal_data(num_samples, w1, std1)\n",
    "    x2, t2 = create_unimodal_data(num_samples, w2, std2)\n",
    "    \n",
    "    samples = torch.cat([x1, x2], axis=1)\n",
    "    targets = torch.cat([t1, t2], axis=1)\n",
    "\n",
    "    weights = torch.tensor([pai, 1-pai])\n",
    "    ixs = torch.multinomial(weights, num_samples, replacement=True)\n",
    "    \n",
    "    x = torch.stack([samples[i, ix] for i, ix in enumerate(ixs)])\n",
    "    t = torch.stack([targets[i, ix] for i, ix in enumerate(ixs)])\n",
    "    \n",
    "    x = torch.unsqueeze(x, -1)\n",
    "    t = torch.unsqueeze(t, -1)\n",
    "    \n",
    "    return x, t"
   ]
  },
  {
   "cell_type": "code",
   "execution_count": 9,
   "metadata": {},
   "outputs": [
    {
     "name": "stderr",
     "output_type": "stream",
     "text": [
      "/Users/farzaneh/anaconda3/lib/python3.7/site-packages/ipykernel_launcher.py:17: UserWarning: To copy construct from a tensor, it is recommended to use sourceTensor.clone().detach() or sourceTensor.clone().detach().requires_grad_(True), rather than torch.tensor(sourceTensor).\n"
     ]
    },
    {
     "data": {
      "text/plain": [
       "<matplotlib.collections.PathCollection at 0x1262658d0>"
      ]
     },
     "execution_count": 9,
     "metadata": {},
     "output_type": "execute_result"
    },
    {
     "data": {
      "image/png": "[encoded data removed]",
      "text/plain": [
       "<Figure size 432x288 with 1 Axes>"
      ]
     },
     "metadata": {
      "needs_background": "light"
     },
     "output_type": "display_data"
    }
   ],
   "source": [
    "w1 = 3.\n",
    "w2 = 5.\n",
    "std1 = 5.\n",
    "std2 = 5.\n",
    "pai = .5\n",
    "x, t = create_bimodal_data(w2, w1, std2, std1, pai, 200)\n",
    "# x, t = create_unimodal_data(200, 3.8, 4.6, low=-10, high=10)\n",
    "\n",
    "plt.scatter(x, t)"
   ]
  },
  {
   "cell_type": "markdown",
   "metadata": {},
   "source": [
    "Lets assume our approximate posterior, `q`,  is a mixture of Gaussians with two components,\n",
    "our prior is a Gaussian and likelihood is also a mixture of Gaussians.\n"
   ]
  },
  {
   "cell_type": "code",
   "execution_count": 10,
   "metadata": {},
   "outputs": [],
   "source": [
    "q_means = torch.nn.Parameter(torch.tensor([2., 4.]), requires_grad=True)\n",
    "q_stds = torch.nn.Parameter(torch.tensor([1.8, 1.8]), requires_grad=True)\n",
    "q_log_pais = torch.nn.Parameter(torch.log(torch.tensor([.5, .5])), requires_grad=True)\n",
    "q_fn = lambda t: log_gmm(t, q_means, softplus(q_stds), q_log_pais)"
   ]
  },
  {
   "cell_type": "code",
   "execution_count": 11,
   "metadata": {},
   "outputs": [],
   "source": [
    "likelihood_stds = torch.tensor([std1, std2])\n",
    "likelihood_log_pais = torch.log(torch.tensor([pai, 1-pai]))"
   ]
  },
  {
   "cell_type": "code",
   "execution_count": 12,
   "metadata": {},
   "outputs": [],
   "source": [
    "p_means = torch.tensor([-3.])\n",
    "p_stds = torch.tensor([10.])\n",
    "p_log_pais = torch.log(torch.tensor([1.]))\n",
    "p_fn = lambda t: log_gmm(t, p_means, softplus(p_stds), p_log_pais)"
   ]
  },
  {
   "cell_type": "markdown",
   "metadata": {},
   "source": [
    "We can plot the log likelihood."
   ]
  },
  {
   "cell_type": "code",
   "execution_count": 13,
   "metadata": {},
   "outputs": [
    {
     "data": {
      "image/png": "[encoded data removed]",
      "text/plain": [
       "<Figure size 432x288 with 1 Axes>"
      ]
     },
     "metadata": {
      "needs_background": "light"
     },
     "output_type": "display_data"
    }
   ],
   "source": [
    "wn = torch.arange(1., 5., 0.0001)\n",
    "log_likelihood= torch.sum(log_gmm(t, [wn*x, (wn+(w2-w1))*x], likelihood_stds, likelihood_log_pais), 1)\n",
    "log_prior = p_fn(wn)\n",
    "\n",
    "plt.plot(wn, log_likelihood, linewidth=3, label=\"Log Likelihood\")\n",
    "\n",
    "plt.legend()\n",
    "plt.show()"
   ]
  },
  {
   "cell_type": "code",
   "execution_count": 14,
   "metadata": {},
   "outputs": [],
   "source": [
    "def compute_elbo(x, t):\n",
    "    elbo = 0\n",
    "    for c in range(2):\n",
    "        # c = torch.randint(0, 2, [1]) ## we can replace the loop over comps with this line to sample the component\n",
    "        z = gaussian_sample(q_means[c], softplus(q_stds[c]), num_samples[c])\n",
    "        \n",
    "        q_likelihood = torch.mean(q_fn(z))\n",
    "        prior = torch.mean(p_fn(z))\n",
    "        log_likelihood = torch.mean(torch.sum(log_gmm(t,  [z.T * x, (z.T + (w2-w1)) * x], likelihood_stds,\n",
    "                        likelihood_log_pais), 1))\n",
    "        elbo_c = q_likelihood - prior - log_likelihood\n",
    "        elbo += elbo_c * softmax(q_log_pais)[c]\n",
    "    return elbo"
   ]
  },
  {
   "cell_type": "markdown",
   "metadata": {},
   "source": [
    "# Optimizer\n",
    "We define an optimizer, and pass the variables that we intend to optimize. "
   ]
  },
  {
   "cell_type": "code",
   "execution_count": 15,
   "metadata": {},
   "outputs": [],
   "source": [
    "optimizer = torch.optim.Adam([\n",
    "    {'params': [q_log_pais, q_means, q_stds], 'lr': 0.1}])"
   ]
  },
  {
   "cell_type": "markdown",
   "metadata": {},
   "source": [
    "## Training"
   ]
  },
  {
   "cell_type": "code",
   "execution_count": 16,
   "metadata": {},
   "outputs": [
    {
     "name": "stdout",
     "output_type": "stream",
     "text": [
      "Step:0 Loss: 11901.956256, means:[2.1 3.9], stds:[1.8677859 1.8677859], pais:[0.54983395 0.45016602]\n",
      "Step:250 Loss: 762.004948, means:[2.9973    2.9902003], stds:[0.12448654 0.05412815], pais:[0.05314463 0.9468553 ]\n",
      "Step:500 Loss: 751.893353, means:[2.9942586 3.0007944], stds:[0.1091868 0.0310031], pais:[0.01823814 0.9817618 ]\n",
      "Step:750 Loss: 750.850279, means:[2.9952028 2.989749 ], stds:[0.10216085 0.0230154 ], pais:[0.01012686 0.9898732 ]\n",
      "Step:1000 Loss: 750.743839, means:[2.9977624 2.9881747], stds:[0.09761116 0.01883618], pais:[0.00676584 0.9932341 ]\n",
      "Step:1250 Loss: 749.982896, means:[2.9957066 2.9917884], stds:[0.09417125 0.01630913], pais:[0.0049436 0.9950564]\n",
      "Step:1500 Loss: 749.832647, means:[2.9959466 2.9891536], stds:[0.09140789 0.01467613], pais:[0.00382522 0.9961748 ]\n",
      "Step:1750 Loss: 749.847007, means:[2.997102  2.9975863], stds:[0.08903169 0.01360767], pais:[0.00306057 0.9969394 ]\n",
      "Step:2000 Loss: 749.760233, means:[2.994671 2.999148], stds:[0.08695796 0.01285381], pais:[0.00251393 0.9974861 ]\n",
      "Step:2250 Loss: 749.731900, means:[2.9948552 2.9942093], stds:[0.08509399 0.01232625], pais:[0.00210344 0.99789655]\n",
      "Step:2500 Loss: 749.760339, means:[2.9945962 2.9968655], stds:[0.08341551 0.01196858], pais:[0.00178851 0.9982115 ]\n",
      "Step:2750 Loss: 749.852265, means:[2.9940724 2.9982245], stds:[0.0818869  0.01182998], pais:[0.00154296 0.9984571 ]\n",
      "Step:3000 Loss: 749.794251, means:[2.9956412 2.9907742], stds:[0.08043922 0.01171206], pais:[0.00134002 0.99865997]\n",
      "Step:3250 Loss: 749.733833, means:[2.9958093 2.9965267], stds:[0.07906923 0.01162788], pais:[0.00117219 0.99882776]\n",
      "Step:3500 Loss: 749.883417, means:[2.9957228 2.9904788], stds:[0.07777338 0.01167136], pais:[0.00103225 0.99896777]\n",
      "Step:3750 Loss: 750.001611, means:[2.995044  3.0029333], stds:[0.07655798 0.01164809], pais:[9.1534684e-04 9.9908459e-01]\n",
      "Step:4000 Loss: 750.008273, means:[2.9969058 2.9918747], stds:[0.07538663 0.01159897], pais:[8.145215e-04 9.991855e-01]\n",
      "Step:4250 Loss: 749.863525, means:[2.9956245 2.991558 ], stds:[0.07425124 0.01167252], pais:[7.274498e-04 9.992725e-01]\n",
      "Step:4500 Loss: 749.758015, means:[2.9943237 2.999303 ], stds:[0.07314196 0.01160532], pais:[6.5074646e-04 9.9934930e-01]\n",
      "Step:4750 Loss: 749.834965, means:[2.9945965 2.9959075], stds:[0.07207838 0.0117034 ], pais:[5.8481994e-04 9.9941516e-01]\n"
     ]
    }
   ],
   "source": [
    "for step in range(num_steps):\n",
    "    loss = compute_elbo(x, t)\n",
    "    optimizer.zero_grad()\n",
    "    loss.backward(retain_graph=True)\n",
    "    optimizer.step()\n",
    "\n",
    "    if step % 250 == 0:\n",
    "        print('Step:{} Loss: {:.6f}, '\n",
    "              'means:{}, '\n",
    "              'stds:{}, '\n",
    "              'pais:{}'\n",
    "              .format(step, loss.item(), q_means.data.numpy(), \n",
    "                      softplus(q_stds).data.numpy(),\n",
    "                      softmax(q_log_pais).data.numpy())\n",
    "             )"
   ]
  },
  {
   "cell_type": "markdown",
   "metadata": {},
   "source": [
    "## Plotting"
   ]
  },
  {
   "cell_type": "code",
   "execution_count": 18,
   "metadata": {},
   "outputs": [
    {
     "data": {
      "image/png": "[encoded data removed]",
      "text/plain": [
       "<Figure size 432x288 with 1 Axes>"
      ]
     },
     "metadata": {
      "needs_background": "light"
     },
     "output_type": "display_data"
    }
   ],
   "source": [
    "wn = torch.arange(2.8, 3.2 , 0.0001)\n",
    "log_likelihood = torch.sum(log_gmm(t, [wn * x, (wn+(w2-w1))*x],\n",
    "                                   likelihood_stds, likelihood_log_pais), 1)\n",
    "log_prior = p_fn(wn)\n",
    "\n",
    "log_true_posterior = log_likelihood + log_prior\n",
    "log_true_posterior = log_true_posterior - torch.max(log_true_posterior)\n",
    "true_posterior = torch.exp(log_true_posterior) / torch.sum(\n",
    "    torch.exp(log_true_posterior))\n",
    "\n",
    "plt.plot(wn, true_posterior, linewidth=3, label=\"True Posterior\")\n",
    "\n",
    "posterior = torch.exp(q_fn(wn))\n",
    "plt.plot(wn, posterior.clone().detach() / torch.sum(posterior.clone().detach()), '--',\n",
    "         linewidth=3, label=\"GMM\")\n",
    "# plt.plot(wn, torch.exp(log_likelihood))\n",
    "plt.legend()\n",
    "plt.show()"
   ]
  }
 ],
 "metadata": {
  "kernelspec": {
   "display_name": "Python 3",
   "language": "python",
   "name": "python3"
  },
  "language_info": {
   "codemirror_mode": {
    "name": "ipython",
    "version": 3
   },
   "file_extension": ".py",
   "mimetype": "text/x-python",
   "name": "python",
   "nbconvert_exporter": "python",
   "pygments_lexer": "ipython3",
   "version": "3.7.1"
  }
 },
 "nbformat": 4,
 "nbformat_minor": 4
}
